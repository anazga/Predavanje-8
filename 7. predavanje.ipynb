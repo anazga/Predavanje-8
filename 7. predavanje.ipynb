{
 "cells": [
  {
   "cell_type": "markdown",
   "metadata": {},
   "source": [
    "# Vježbe i ponavljanje"
   ]
  },
  {
   "cell_type": "code",
   "execution_count": 41,
   "metadata": {},
   "outputs": [
    {
     "data": {
      "text/html": [
       "\n",
       "        <iframe\n",
       "            width=\"400\"\n",
       "            height=\"300\"\n",
       "            src=\"https://www.youtube.com/embed/JDX8-i0Zgps \"\n",
       "            frameborder=\"0\"\n",
       "            allowfullscreen\n",
       "        ></iframe>\n",
       "        "
      ],
      "text/plain": [
       "<IPython.lib.display.YouTubeVideo at 0x2158a1ac6d8>"
      ]
     },
     "metadata": {},
     "output_type": "display_data"
    }
   ],
   "source": [
    "from IPython.lib.display import YouTubeVideo\n",
    "vid = YouTubeVideo(\"JDX8-i0Zgps \")\n",
    "display(vid)"
   ]
  },
  {
   "cell_type": "markdown",
   "metadata": {},
   "source": [
    "Pogledajmo sljedeći primjer\n",
    "$$A=\\begin{bmatrix} 121734 & 169217& 176624& 166662\\\\ 169217& 235222& 245505& 231653\\\\ 176624 & 245505& 256423& 242029\\\\ 166662& 231653& 242029& 228474\\end{bmatrix}\\quad b=\\begin{bmatrix}634237\\\\ 881597\\\\ 920581\\\\ 868818\\end{bmatrix}$$"
   ]
  },
  {
   "cell_type": "code",
   "execution_count": 33,
   "metadata": {},
   "outputs": [
    {
     "name": "stdout",
     "output_type": "stream",
     "text": [
      "x= [1.00170481 0.99897034 0.99957186 1.00025394]\n"
     ]
    }
   ],
   "source": [
    "import numpy as np\n",
    "A = np.array([[121734, 169217, 176624, 166662], [169217, 235222, 245505, 231653], [176624, 245505, 256423, 242029],\n",
    "              [166662, 231653, 242029, 228474]])\n",
    "b = np.array([634237,881597, 920581, 868818])\n",
    "x = np.linalg.solve(A,b)\n",
    "print(\"x=\",x)"
   ]
  },
  {
   "cell_type": "markdown",
   "metadata": {},
   "source": [
    "Ako uzmemo da je desna strana sada b=\\begin{bmatrix}634237\\\\ 881597\\\\ 920580\\\\ 868818\\end{bmatrix}"
   ]
  },
  {
   "cell_type": "code",
   "execution_count": 34,
   "metadata": {},
   "outputs": [
    {
     "name": "stdout",
     "output_type": "stream",
     "text": [
      "x= [16316026.0332614  -9854426.48680124 -4097527.25568108  2430330.02081108]\n"
     ]
    }
   ],
   "source": [
    "c = np.array([634237,881597, 920580, 868818])\n",
    "x = np.linalg.solve(A,c)\n",
    "print(\"x=\",x)"
   ]
  },
  {
   "cell_type": "code",
   "execution_count": 31,
   "metadata": {},
   "outputs": [
    {
     "name": "stdout",
     "output_type": "stream",
     "text": [
      "Eigenvalues= [1.06252778e-08 5.05278814e-01 2.21551535e+02 8.41630943e+05]\n"
     ]
    }
   ],
   "source": [
    "eig=np.linalg.eigvalsh(A)\n",
    "print(\"Eigenvalues=\", eig)"
   ]
  },
  {
   "cell_type": "markdown",
   "metadata": {},
   "source": [
    "Matrica je loše uvjetovana!"
   ]
  },
  {
   "cell_type": "code",
   "execution_count": 32,
   "metadata": {},
   "outputs": [
    {
     "name": "stdout",
     "output_type": "stream",
     "text": [
      "79288124894603.9\n"
     ]
    }
   ],
   "source": [
    "print(np.linalg.cond(A,2))"
   ]
  },
  {
   "cell_type": "markdown",
   "metadata": {},
   "source": [
    "# Još malo o linearnim sustavima i primjeri"
   ]
  },
  {
   "cell_type": "code",
   "execution_count": 43,
   "metadata": {},
   "outputs": [
    {
     "data": {
      "text/html": [
       "\n",
       "        <iframe\n",
       "            width=\"400\"\n",
       "            height=\"300\"\n",
       "            src=\"https://www.youtube.com/embed/DMLummq67g8\"\n",
       "            frameborder=\"0\"\n",
       "            allowfullscreen\n",
       "        ></iframe>\n",
       "        "
      ],
      "text/plain": [
       "<IPython.lib.display.YouTubeVideo at 0x2158a1aca58>"
      ]
     },
     "metadata": {},
     "output_type": "display_data"
    }
   ],
   "source": [
    "vid = YouTubeVideo(\"DMLummq67g8\")\n",
    "display(vid)"
   ]
  },
  {
   "cell_type": "code",
   "execution_count": 35,
   "metadata": {},
   "outputs": [
    {
     "name": "stdout",
     "output_type": "stream",
     "text": [
      "x= [ 0.00096365 -0.698496    0.9004233 ]\n"
     ]
    },
    {
     "data": {
      "text/plain": [
       "array([400.    ,   1.3816,   1.9273])"
      ]
     },
     "execution_count": 35,
     "metadata": {},
     "output_type": "execute_result"
    }
   ],
   "source": [
    "import numpy as np\n",
    "A = np.array([[-4000, 2000, 2000], [2000, 0.78125, 0], [2000, 0, 0]])\n",
    "b = np.array([400,1.3816, 1.9273])\n",
    "x = np.linalg.solve(A,b)\n",
    "print(\"x=\",x)\n",
    "np.matmul(A,x)"
   ]
  },
  {
   "cell_type": "code",
   "execution_count": 36,
   "metadata": {},
   "outputs": [],
   "source": [
    "D = np.array([[0.0005, 0, 0], [0, 1, 0], [0, 0, 1]])"
   ]
  },
  {
   "cell_type": "code",
   "execution_count": 39,
   "metadata": {},
   "outputs": [
    {
     "name": "stdout",
     "output_type": "stream",
     "text": [
      "G= [[-0.001    1.       1.     ]\n",
      " [ 1.       0.78125  0.     ]\n",
      " [ 1.       0.       0.     ]]\n",
      "Uvjetovanost matrice A je 13990.621644372157\n",
      "Uvjetovanost matrice G je 4.656945664193629\n"
     ]
    }
   ],
   "source": [
    "B=np.matmul(D,A)\n",
    "G=np.matmul(B,D)\n",
    "print(\"G=\", G)\n",
    "print(\"Uvjetovanost matrice A je\", np.linalg.cond(A,2))\n",
    "print(\"Uvjetovanost matrice G je\",np.linalg.cond(G,2))"
   ]
  },
  {
   "cell_type": "code",
   "execution_count": null,
   "metadata": {},
   "outputs": [],
   "source": []
  }
 ],
 "metadata": {
  "kernelspec": {
   "display_name": "Python 3",
   "language": "python",
   "name": "python3"
  },
  "language_info": {
   "codemirror_mode": {
    "name": "ipython",
    "version": 3
   },
   "file_extension": ".py",
   "mimetype": "text/x-python",
   "name": "python",
   "nbconvert_exporter": "python",
   "pygments_lexer": "ipython3",
   "version": "3.6.4"
  }
 },
 "nbformat": 4,
 "nbformat_minor": 2
}
